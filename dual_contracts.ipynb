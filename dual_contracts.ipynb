{
 "cells": [
  {
   "cell_type": "code",
   "execution_count": 20,
   "metadata": {},
   "outputs": [],
   "source": [
    "import pandas as pd"
   ]
  },
  {
   "cell_type": "code",
   "execution_count": 21,
   "metadata": {},
   "outputs": [],
   "source": [
    "markets = pd.read_csv(\"data/predictit_all_markets.csv\")"
   ]
  },
  {
   "cell_type": "code",
   "execution_count": 22,
   "metadata": {},
   "outputs": [
    {
     "data": {
      "text/html": [
       "<div>\n",
       "<style scoped>\n",
       "    .dataframe tbody tr th:only-of-type {\n",
       "        vertical-align: middle;\n",
       "    }\n",
       "\n",
       "    .dataframe tbody tr th {\n",
       "        vertical-align: top;\n",
       "    }\n",
       "\n",
       "    .dataframe thead th {\n",
       "        text-align: right;\n",
       "    }\n",
       "</style>\n",
       "<table border=\"1\" class=\"dataframe\">\n",
       "  <thead>\n",
       "    <tr style=\"text-align: right;\">\n",
       "      <th></th>\n",
       "      <th>Market_ID</th>\n",
       "      <th>Market_Name</th>\n",
       "      <th>Market_URL</th>\n",
       "      <th>Contract_ID</th>\n",
       "      <th>Contract_Name</th>\n",
       "      <th>bestBuyYesCost</th>\n",
       "      <th>bestBuyNoCost</th>\n",
       "      <th>BestSellYesCost</th>\n",
       "      <th>BestSellNoCost</th>\n",
       "      <th>Time_Stamp</th>\n",
       "      <th>Status</th>\n",
       "    </tr>\n",
       "  </thead>\n",
       "  <tbody>\n",
       "    <tr>\n",
       "      <th>0</th>\n",
       "      <td>6867</td>\n",
       "      <td>Which party will win the 2024 U.S. presidentia...</td>\n",
       "      <td>https://www.predictit.org/markets/detail/6867/...</td>\n",
       "      <td>23547</td>\n",
       "      <td>Democratic</td>\n",
       "      <td>0.55</td>\n",
       "      <td>0.46</td>\n",
       "      <td>0.54</td>\n",
       "      <td>0.45</td>\n",
       "      <td>2023-06-11T12:27:18.9005745</td>\n",
       "      <td>Open</td>\n",
       "    </tr>\n",
       "    <tr>\n",
       "      <th>1</th>\n",
       "      <td>6867</td>\n",
       "      <td>Which party will win the 2024 U.S. presidentia...</td>\n",
       "      <td>https://www.predictit.org/markets/detail/6867/...</td>\n",
       "      <td>23546</td>\n",
       "      <td>Republican</td>\n",
       "      <td>0.47</td>\n",
       "      <td>0.54</td>\n",
       "      <td>0.46</td>\n",
       "      <td>0.53</td>\n",
       "      <td>2023-06-11T12:27:18.9005745</td>\n",
       "      <td>Open</td>\n",
       "    </tr>\n",
       "    <tr>\n",
       "      <th>2</th>\n",
       "      <td>6867</td>\n",
       "      <td>Which party will win the 2024 U.S. presidentia...</td>\n",
       "      <td>https://www.predictit.org/markets/detail/6867/...</td>\n",
       "      <td>23545</td>\n",
       "      <td>Libertarian</td>\n",
       "      <td>0.02</td>\n",
       "      <td>0.99</td>\n",
       "      <td>0.01</td>\n",
       "      <td>0.98</td>\n",
       "      <td>2023-06-11T12:27:18.9005745</td>\n",
       "      <td>Open</td>\n",
       "    </tr>\n",
       "    <tr>\n",
       "      <th>3</th>\n",
       "      <td>6867</td>\n",
       "      <td>Which party will win the 2024 U.S. presidentia...</td>\n",
       "      <td>https://www.predictit.org/markets/detail/6867/...</td>\n",
       "      <td>23548</td>\n",
       "      <td>Green</td>\n",
       "      <td>0.01</td>\n",
       "      <td>0.00</td>\n",
       "      <td>0.00</td>\n",
       "      <td>0.99</td>\n",
       "      <td>2023-06-11T12:27:18.9005745</td>\n",
       "      <td>Open</td>\n",
       "    </tr>\n",
       "    <tr>\n",
       "      <th>4</th>\n",
       "      <td>7013</td>\n",
       "      <td>Will a woman be elected U.S. president in 2024?</td>\n",
       "      <td>https://www.predictit.org/markets/detail/7013/...</td>\n",
       "      <td>24594</td>\n",
       "      <td>Will a woman be elected U.S. president in 2024?</td>\n",
       "      <td>0.13</td>\n",
       "      <td>0.88</td>\n",
       "      <td>0.12</td>\n",
       "      <td>0.87</td>\n",
       "      <td>2023-06-11T12:27:18.9005745</td>\n",
       "      <td>Open</td>\n",
       "    </tr>\n",
       "  </tbody>\n",
       "</table>\n",
       "</div>"
      ],
      "text/plain": [
       "   Market_ID                                        Market_Name  \\\n",
       "0       6867  Which party will win the 2024 U.S. presidentia...   \n",
       "1       6867  Which party will win the 2024 U.S. presidentia...   \n",
       "2       6867  Which party will win the 2024 U.S. presidentia...   \n",
       "3       6867  Which party will win the 2024 U.S. presidentia...   \n",
       "4       7013    Will a woman be elected U.S. president in 2024?   \n",
       "\n",
       "                                          Market_URL  Contract_ID  \\\n",
       "0  https://www.predictit.org/markets/detail/6867/...        23547   \n",
       "1  https://www.predictit.org/markets/detail/6867/...        23546   \n",
       "2  https://www.predictit.org/markets/detail/6867/...        23545   \n",
       "3  https://www.predictit.org/markets/detail/6867/...        23548   \n",
       "4  https://www.predictit.org/markets/detail/7013/...        24594   \n",
       "\n",
       "                                     Contract_Name  bestBuyYesCost  \\\n",
       "0                                       Democratic            0.55   \n",
       "1                                       Republican            0.47   \n",
       "2                                      Libertarian            0.02   \n",
       "3                                            Green            0.01   \n",
       "4  Will a woman be elected U.S. president in 2024?            0.13   \n",
       "\n",
       "   bestBuyNoCost  BestSellYesCost  BestSellNoCost  \\\n",
       "0           0.46             0.54            0.45   \n",
       "1           0.54             0.46            0.53   \n",
       "2           0.99             0.01            0.98   \n",
       "3           0.00             0.00            0.99   \n",
       "4           0.88             0.12            0.87   \n",
       "\n",
       "                    Time_Stamp Status  \n",
       "0  2023-06-11T12:27:18.9005745   Open  \n",
       "1  2023-06-11T12:27:18.9005745   Open  \n",
       "2  2023-06-11T12:27:18.9005745   Open  \n",
       "3  2023-06-11T12:27:18.9005745   Open  \n",
       "4  2023-06-11T12:27:18.9005745   Open  "
      ]
     },
     "execution_count": 22,
     "metadata": {},
     "output_type": "execute_result"
    }
   ],
   "source": [
    "markets.head()"
   ]
  },
  {
   "cell_type": "code",
   "execution_count": 23,
   "metadata": {},
   "outputs": [],
   "source": [
    "# Profit = Gain - Fee - Opposite Price\n",
    "markets['YesArb'] = markets['bestBuyYesCost'] - ((1 - markets['bestBuyYesCost']) * 0.1) - markets['bestBuyNoCost']\n",
    "markets['NoArb'] = markets['bestBuyNoCost'] - ((1 - markets['bestBuyNoCost']) * 0.1) - markets['bestBuyYesCost']\n",
    "\n",
    "# Make new dataframe for where both yes and no are > 0, i.e. they both make money\n",
    "actionable_contacts = markets.loc[(markets['YesArb'] > 0) & (markets['NoArb'] > 0)]"
   ]
  },
  {
   "cell_type": "code",
   "execution_count": 24,
   "metadata": {},
   "outputs": [
    {
     "name": "stdout",
     "output_type": "stream",
     "text": [
      "There exist no contracts in which there is inefficiency between the Yes and No best buy price\n"
     ]
    }
   ],
   "source": [
    "if len(actionable_contacts) == 0:\n",
    "   print(\"There exist no contracts in which there is inefficiency between the Yes and No best buy price\") "
   ]
  }
 ],
 "metadata": {
  "kernelspec": {
   "display_name": "pred_env",
   "language": "python",
   "name": "python3"
  },
  "language_info": {
   "codemirror_mode": {
    "name": "ipython",
    "version": 3
   },
   "file_extension": ".py",
   "mimetype": "text/x-python",
   "name": "python",
   "nbconvert_exporter": "python",
   "pygments_lexer": "ipython3",
   "version": "3.11.3"
  },
  "orig_nbformat": 4
 },
 "nbformat": 4,
 "nbformat_minor": 2
}
